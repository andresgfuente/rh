{
 "cells": [
  {
   "cell_type": "code",
   "execution_count": 1,
   "metadata": {},
   "outputs": [],
   "source": [
    "import numpy as np\n",
    "from sklearn.model_selection import train_test_split\n",
    "\n",
    "# Partición de datos\n",
    "X = np.array([1, 2, 3, 4, 5, 6, 7, 8, 9, 10])\n",
    "y = np.array([0, 1, 0, 1, 0, 1, 0, 1, 0, 1])\n",
    "\n",
    "# Obtener los índices de entrenamiento y prueba\n",
    "train_indices, test_indices = train_test_split(np.arange(len(X)), test_size=0.3, random_state=42)\n",
    "\n",
    "# Guardar los índices en un archivo\n",
    "np.savez(\"indices_particion.npz\", train_indices=train_indices, test_indices=test_indices)"
   ]
  },
  {
   "cell_type": "code",
   "execution_count": 2,
   "metadata": {},
   "outputs": [
    {
     "data": {
      "text/plain": [
       "array([0, 7, 2, 9, 4, 3, 6])"
      ]
     },
     "execution_count": 2,
     "metadata": {},
     "output_type": "execute_result"
    }
   ],
   "source": [
    "train_indices"
   ]
  },
  {
   "cell_type": "code",
   "execution_count": 1,
   "metadata": {},
   "outputs": [
    {
     "name": "stderr",
     "output_type": "stream",
     "text": [
      "c:\\Users\\ANDRES\\anaconda3\\lib\\site-packages\\scipy\\__init__.py:146: UserWarning: A NumPy version >=1.16.5 and <1.23.0 is required for this version of SciPy (detected version 1.26.4\n",
      "  warnings.warn(f\"A NumPy version >={np_minversion} and <{np_maxversion}\"\n"
     ]
    }
   ],
   "source": [
    "import scipy"
   ]
  },
  {
   "cell_type": "code",
   "execution_count": 2,
   "metadata": {},
   "outputs": [
    {
     "data": {
      "text/plain": [
       "'1.7.3'"
      ]
     },
     "execution_count": 2,
     "metadata": {},
     "output_type": "execute_result"
    }
   ],
   "source": [
    "scipy.__version__"
   ]
  },
  {
   "cell_type": "code",
   "execution_count": 8,
   "metadata": {},
   "outputs": [],
   "source": [
    "import boto3\n",
    "from langchain_aws import ChatBedrock\n",
    "from langchain.output_parsers import ResponseSchema, StructuredOutputParser\n",
    "from langchain import PromptTemplate"
   ]
  },
  {
   "cell_type": "code",
   "execution_count": 4,
   "metadata": {},
   "outputs": [],
   "source": []
  },
  {
   "cell_type": "code",
   "execution_count": 5,
   "metadata": {},
   "outputs": [
    {
     "data": {
      "text/plain": [
       "AIMessage(content='¡Hola! Soy tu asistente de conversación. Estoy aquí para ayudarte con cualquier pregunta o tema que tengas en mente. ¿En qué puedo asistirte hoy? Si necesitas información, consejos, traducción, respuestas a preguntas generales o simplemente quieres charlar sobre algún tema en particular, no dudes en decírmelo. ¡Estoy aquí para ayudarte!', additional_kwargs={}, response_metadata={'ResponseMetadata': {'RequestId': '5b570a7e-0f5c-45cd-a371-a295099c14c6', 'HTTPStatusCode': 200, 'HTTPHeaders': {'date': 'Mon, 16 Dec 2024 14:11:00 GMT', 'content-type': 'application/json', 'content-length': '530', 'connection': 'keep-alive', 'x-amzn-requestid': '5b570a7e-0f5c-45cd-a371-a295099c14c6'}, 'RetryAttempts': 0}, 'stopReason': 'end_turn', 'metrics': {'latencyMs': [1053]}}, id='run-6c06d3de-c45d-48e6-a2ac-7116fd5e29f5-0', usage_metadata={'input_tokens': 2, 'output_tokens': 72, 'total_tokens': 74})"
      ]
     },
     "execution_count": 5,
     "metadata": {},
     "output_type": "execute_result"
    }
   ],
   "source": [
    "llm.invoke('hola')"
   ]
  },
  {
   "cell_type": "code",
   "execution_count": 7,
   "metadata": {},
   "outputs": [],
   "source": []
  },
  {
   "cell_type": "code",
   "execution_count": 36,
   "metadata": {},
   "outputs": [],
   "source": [
    "def clasificador_texto(texto):\n",
    "    session=boto3.Session()\n",
    "    bedrock=session.client(service_name='bedrock-runtime',region_name='us-east-1')\n",
    "    llm=ChatBedrock(client=bedrock,model_id='anthropic.claude-3-sonnet-20240229-v1:0',beta_use_converse_api=True,region_name='us-east-1')\n",
    "\n",
    "    response_schema=[\n",
    "        ResponseSchema(name='Nombre',description='Nombre del Candidato. Por ejemplo: Raul, Juan, Oscar'),\n",
    "        ResponseSchema(name='Apellido',description='Apellido del Candidato. Por ejemplo: Gomez, Salazar, Baez.'),\n",
    "        ResponseSchema(name='Nombre y Apellido',description='Nombre y Apellido del Candidato. Por ejemplo: Raul Gomez'),\n",
    "        ResponseSchema(name='Sexo',description='Sexo del Candidato. Las opciones son: Masculino, Femenino'),\n",
    "        ResponseSchema(name='Correo',description='Correo electronico del Candidato. Responde No se menciona en caso de no encontrar la respuesta'),\n",
    "        ResponseSchema(name='Telefono',description='Telefono del Candidato. Responde No se menciona en caso de no encontrar la respuesta'),\n",
    "        ResponseSchema(name='Fecha de Nacimiento',description='Fecha de Nacimiento del Candidato. Responde No se menciona en caso de no encontrar la respuesta'),\n",
    "        ResponseSchema(name='Formacion Academica',description='Cual es la formacion academica del candidato? Sea breve y conciso en la respuesta, citando los datos mas relevantes.'),\n",
    "        ResponseSchema(name='Experiencia Laboral',description='Cual es la experiencia laboral?Sea breve y conciso en la respuesta, citando los datos mas relevantes.')\n",
    "    ]\n",
    "\n",
    "    output_parser=StructuredOutputParser.from_response_schemas(response_schema)\n",
    "    format_instructions=output_parser.get_format_instructions()\n",
    "    template=\"\"\" A continuacion, se te proporcionara texto sobre un curriculum vitae. En base al texto proporcionado deberas extraer la siguiente informacion con el siguiente formato:\n",
    "    {format_instructions} \n",
    "    {texto}\n",
    "\n",
    "\n",
    "    \"\"\"\n",
    "\n",
    "    prompt=PromptTemplate(template=template, input_variables=[texto],partial_variables={'format_instructions':format_instructions})\n",
    "    #prompt=prompt.format_prompt(texto=texto).text\n",
    "    #respuesta=llm.invoke(prompt)\n",
    "    chain=prompt|llm|output_parser\n",
    "    respuesta=chain.invoke(texto)\n",
    "    return respuesta"
   ]
  },
  {
   "cell_type": "code",
   "execution_count": 39,
   "metadata": {},
   "outputs": [
    {
     "data": {
      "text/plain": [
       "{'Nombre': 'Andres',\n",
       " 'Apellido': 'Gomez de la Fuente',\n",
       " 'Nombre y Apellido': 'Andres Gomez de la Fuente',\n",
       " 'Sexo': 'Masculino',\n",
       " 'Correo': 'No se menciona',\n",
       " 'Telefono': 'No se menciona',\n",
       " 'Fecha de Nacimiento': 'No se menciona',\n",
       " 'Formacion Academica': 'No se menciona',\n",
       " 'Experiencia Laboral': 'Trabajo de repartidor'}"
      ]
     },
     "execution_count": 39,
     "metadata": {},
     "output_type": "execute_result"
    }
   ],
   "source": [
    "clasificador_texto('me llamo andres gomez de la fuente y trabajo de repartidor')"
   ]
  },
  {
   "cell_type": "code",
   "execution_count": 25,
   "metadata": {},
   "outputs": [
    {
     "name": "stdout",
     "output_type": "stream",
     "text": [
      " A continuacion, se te proporcionara texto sobre un curriculum vitae. En base al texto proporcionado deberas extraer la siguiente informacion con el siguiente formato:\n",
      "    The output should be a markdown code snippet formatted in the following schema, including the leading and trailing \"```json\" and \"```\":\n",
      "\n",
      "```json\n",
      "{\n",
      "\t\"Nombre\": string  // Nombre del Candidato. Por ejemplo: Raul, Juan, Oscar\n",
      "\t\"Apellido\": string  // Apellido del Candidato. Por ejemplo: Gomez, Salazar, Baez.\n",
      "\t\"Nombre y Apellido\": string  // Nombre y Apellido del Candidato. Por ejemplo: Raul Gomez\n",
      "\t\"Sexo\": string  // Sexo del Candidato. Las opciones son: Masculino, Femenino\n",
      "\t\"Correo\": string  // Correo electronico del Candidato. Responde No se menciona en caso de no encontrar la respuesta\n",
      "\t\"Telefono\": string  // Telefono del Candidato. Responde No se menciona en caso de no encontrar la respuesta\n",
      "\t\"Fecha de Nacimiento\": string  // Fecha de Nacimiento del Candidato. Responde No se menciona en caso de no encontrar la respuesta\n",
      "\t\"Formacion Academica\": string  // Cual es la formacion academica del candidato? Sea breve y conciso en la respuesta, citando los datos mas relevantes.\n",
      "\t\"Experiencia Laboral\": string  // Cual es la experiencia laboral?Sea breve y conciso en la respuesta, citando los datos mas relevantes.\n",
      "}\n",
      "``` \n",
      "    pedro\n",
      "\n",
      "\n",
      "    \n"
     ]
    }
   ],
   "source": [
    "print(prompt)"
   ]
  },
  {
   "cell_type": "code",
   "execution_count": 14,
   "metadata": {},
   "outputs": [],
   "source": [
    "prompt=clasificador_texto('hola')"
   ]
  },
  {
   "cell_type": "code",
   "execution_count": null,
   "metadata": {},
   "outputs": [],
   "source": [
    "prompt=prompt.format_prompt(texto=texto).text"
   ]
  },
  {
   "cell_type": "code",
   "execution_count": 76,
   "metadata": {},
   "outputs": [],
   "source": [
    "import re\n",
    "import ast\n",
    "def fortalezas_y_debilidades(texto,descripcion_trabajo):\n",
    "    session=boto3.Session()\n",
    "    bedrock=session.client(service_name='bedrock-runtime',region_name='us-east-1')\n",
    "    llm=ChatBedrock(client=bedrock,model_id='anthropic.claude-3-sonnet-20240229-v1:0',region_name='us-east-1')\n",
    "\n",
    "    response_schema=[\n",
    "        ResponseSchema(name='Fortalezas',description='Cuales son las Fortalezas del Candidato con respecto al la descripcion del trabajo?'),\n",
    "        ResponseSchema(name='Debilidades',description='Cuales son las Debilidades del Candidato con respecto al la descripcion del trabajo?'),\n",
    "        ResponseSchema(name='Categoria',description='En que Area de la organizacion puede el candidato encajar basado en sus aptitudes y habilidades?'),\n",
    "    ]\n",
    "\n",
    "    output_parser=StructuredOutputParser.from_response_schemas(response_schema)\n",
    "    format_instructions=output_parser.get_format_instructions()\n",
    "    template=\"\"\" \n",
    "    Actua como un reclutador de talentos con experiencia en el ambito bancario. \n",
    "    En base a la descripcion del puesto de trabajo que se te proporcionara deberas realizar un analisis \n",
    "    con las siguientes instrucciones tomando en cuenta los datos del curriculum vitae. \n",
    "    Tu respuesta debe ser bien detallada y precisa.\n",
    "   A continuacion se presentan las instrucciones:\n",
    "    {format_instructions} \\n\n",
    "    La descripcion de la busqueda del trabajo son las siguientes:\n",
    "   {descripcion_trabajo}\n",
    "    A continuacion se presentan los datos del curriculum vitae de la persona:\n",
    "    {texto}\n",
    "\n",
    "    \"\"\"\n",
    "\n",
    "    prompt = PromptTemplate(\n",
    "    template=template,\n",
    "    input_variables=[\"descripcion_trabajo\", \"texto\"],\n",
    "    partial_variables={\"format_instructions\": format_instructions})\n",
    "    #prompt=prompt.format_prompt(texto=texto).text\n",
    "    #respuesta=llm.invoke(prompt)\n",
    "    prompt_text = prompt.format(descripcion_trabajo=descripcion_trabajo, texto=texto)\n",
    "    respuesta=llm.invoke(prompt_text).content\n",
    "    pattern=r'({[^}]+})'\n",
    "    matches=re.findall(pattern,respuesta)\n",
    "    diccionario=ast.literal_eval(matches[0])\n",
    "    fortalezas=diccionario['Fortalezas']\n",
    "    debilidades=diccionario['Debilidades']\n",
    "    categoria=diccionario['Categoria']\n",
    "    return fortalezas,debilidades,categoria"
   ]
  },
  {
   "cell_type": "code",
   "execution_count": 77,
   "metadata": {},
   "outputs": [],
   "source": [
    "descripcion_trabajo = \"Analista de riesgos financieros con experiencia en banca. Necesita conocimiento en Python \"\n",
    "texto = \"Juan Pérez, economista con 5 años de experiencia en análisis financiero y manejo de riesgos.\""
   ]
  },
  {
   "cell_type": "code",
   "execution_count": 78,
   "metadata": {},
   "outputs": [],
   "source": [
    "fortalezas,debilidades,categoria=fortalezas_y_debilidades(texto,descripcion_trabajo)"
   ]
  },
  {
   "cell_type": "code",
   "execution_count": 79,
   "metadata": {},
   "outputs": [
    {
     "data": {
      "text/plain": [
       "'Gestión de Riesgos Financieros'"
      ]
     },
     "execution_count": 79,
     "metadata": {},
     "output_type": "execute_result"
    }
   ],
   "source": [
    "categoria"
   ]
  },
  {
   "cell_type": "code",
   "execution_count": 62,
   "metadata": {},
   "outputs": [
    {
     "data": {
      "text/plain": [
       "'Si bien Juan Pérez tiene experiencia en el ámbito financiero y de riesgos, el currículum no menciona específicamente conocimientos en Python, que es un requerimiento clave para el puesto de Analista de Riesgos Financieros. Esta falta de mención sobre habilidades en programación podría ser una debilidad a considerar.'"
      ]
     },
     "execution_count": 62,
     "metadata": {},
     "output_type": "execute_result"
    }
   ],
   "source": [
    "debilidades"
   ]
  },
  {
   "cell_type": "code",
   "execution_count": 67,
   "metadata": {},
   "outputs": [],
   "source": [
    "requerimientos='Debe jugar futbol profesionalmente'"
   ]
  },
  {
   "cell_type": "code",
   "execution_count": 70,
   "metadata": {},
   "outputs": [],
   "source": [
    "def requerimientos_excluyentes(texto,requerimientos):\n",
    "    session=boto3.Session()\n",
    "    bedrock=session.client(service_name='bedrock-runtime',region_name='us-east-1')\n",
    "    llm=ChatBedrock(client=bedrock,model_id='anthropic.claude-3-sonnet-20240229-v1:0',region_name='us-east-1')\n",
    "    template='''\n",
    "    Actua como un reclutador de talentos con experiencia en el ambito bancario.\n",
    "    A continuacion, se te proporcionara informacion sobre el curriculum vitae de un candidato \n",
    "    y tambien los requerimientos excluyentes de la busqueda de la persona que se desea contratar. \n",
    "    Deberas responder solamente con:\n",
    "    Excluyente: en caso de que no cumpla con los requerimientos.\n",
    "    No Excluyente: en caso de que cumpla con los requerimientos.\n",
    "    Las opciones de respuesta son: Excluyente, No Excluyente\n",
    "    No debes agregar texto extra a la respuesta, debes ser directo y conciso con la respuesta\n",
    "    Los Requerimientos son los siguientes: \\n \n",
    "    {requerimientos}\n",
    "    La informacion del Curriculum Vitae del candidato es la siguiente: \\n\n",
    "    {texto}\n",
    "    '''\n",
    "\n",
    "    prompt = PromptTemplate(\n",
    "    template=template,\n",
    "    input_variables=[\"texto\", \"requerimientos\"])\n",
    "    prompt_text = prompt.format(requerimientos=requerimientos, texto=texto)\n",
    "    respuesta=llm.invoke(prompt_text).content\n",
    "    return respuesta"
   ]
  },
  {
   "cell_type": "code",
   "execution_count": 71,
   "metadata": {},
   "outputs": [
    {
     "data": {
      "text/plain": [
       "'Excluyente'"
      ]
     },
     "execution_count": 71,
     "metadata": {},
     "output_type": "execute_result"
    }
   ],
   "source": [
    "requerimientos_excluyentes(texto, requerimientos)"
   ]
  },
  {
   "cell_type": "code",
   "execution_count": null,
   "metadata": {},
   "outputs": [],
   "source": []
  }
 ],
 "metadata": {
  "kernelspec": {
   "display_name": "nombre_entorno",
   "language": "python",
   "name": "python3"
  },
  "language_info": {
   "codemirror_mode": {
    "name": "ipython",
    "version": 3
   },
   "file_extension": ".py",
   "mimetype": "text/x-python",
   "name": "python",
   "nbconvert_exporter": "python",
   "pygments_lexer": "ipython3",
   "version": "3.10.16"
  }
 },
 "nbformat": 4,
 "nbformat_minor": 2
}
